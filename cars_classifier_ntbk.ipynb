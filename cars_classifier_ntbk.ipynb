{
  "nbformat": 4,
  "nbformat_minor": 0,
  "metadata": {
    "colab": {
      "name": "cars_classifier_ntbk.ipynb",
      "provenance": [],
      "collapsed_sections": [],
      "toc_visible": true
    },
    "kernelspec": {
      "name": "python3",
      "display_name": "Python 3"
    },
    "accelerator": "GPU",
    "widgets": {
      "application/vnd.jupyter.widget-state+json": {
        "8d1a487660d14608acb9f9faf65cb4e2": {
          "model_module": "@jupyter-widgets/controls",
          "model_name": "HBoxModel",
          "state": {
            "_view_name": "HBoxView",
            "_dom_classes": [],
            "_model_name": "HBoxModel",
            "_view_module": "@jupyter-widgets/controls",
            "_model_module_version": "1.5.0",
            "_view_count": null,
            "_view_module_version": "1.5.0",
            "box_style": "",
            "layout": "IPY_MODEL_502f9dded2374f86892af3e9c3daee62",
            "_model_module": "@jupyter-widgets/controls",
            "children": [
              "IPY_MODEL_e2a26e5a08ca4975884ea8e13e940684",
              "IPY_MODEL_739c0852b65744d9a7b3df4a5529a224"
            ]
          }
        },
        "502f9dded2374f86892af3e9c3daee62": {
          "model_module": "@jupyter-widgets/base",
          "model_name": "LayoutModel",
          "state": {
            "_view_name": "LayoutView",
            "grid_template_rows": null,
            "right": null,
            "justify_content": null,
            "_view_module": "@jupyter-widgets/base",
            "overflow": null,
            "_model_module_version": "1.2.0",
            "_view_count": null,
            "flex_flow": null,
            "width": null,
            "min_width": null,
            "border": null,
            "align_items": null,
            "bottom": null,
            "_model_module": "@jupyter-widgets/base",
            "top": null,
            "grid_column": null,
            "overflow_y": null,
            "overflow_x": null,
            "grid_auto_flow": null,
            "grid_area": null,
            "grid_template_columns": null,
            "flex": null,
            "_model_name": "LayoutModel",
            "justify_items": null,
            "grid_row": null,
            "max_height": null,
            "align_content": null,
            "visibility": null,
            "align_self": null,
            "height": null,
            "min_height": null,
            "padding": null,
            "grid_auto_rows": null,
            "grid_gap": null,
            "max_width": null,
            "order": null,
            "_view_module_version": "1.2.0",
            "grid_template_areas": null,
            "object_position": null,
            "object_fit": null,
            "grid_auto_columns": null,
            "margin": null,
            "display": null,
            "left": null
          }
        },
        "e2a26e5a08ca4975884ea8e13e940684": {
          "model_module": "@jupyter-widgets/controls",
          "model_name": "FloatProgressModel",
          "state": {
            "_view_name": "ProgressView",
            "style": "IPY_MODEL_5b0a32989ab9488da17ccbe8b310a15e",
            "_dom_classes": [],
            "description": "100%",
            "_model_name": "FloatProgressModel",
            "bar_style": "success",
            "max": 87306240,
            "_view_module": "@jupyter-widgets/controls",
            "_model_module_version": "1.5.0",
            "value": 87306240,
            "_view_count": null,
            "_view_module_version": "1.5.0",
            "orientation": "horizontal",
            "min": 0,
            "description_tooltip": null,
            "_model_module": "@jupyter-widgets/controls",
            "layout": "IPY_MODEL_bad50a719a344f22873e407534cad7e0"
          }
        },
        "739c0852b65744d9a7b3df4a5529a224": {
          "model_module": "@jupyter-widgets/controls",
          "model_name": "HTMLModel",
          "state": {
            "_view_name": "HTMLView",
            "style": "IPY_MODEL_8f0740f4427f45878459fa3ce5780981",
            "_dom_classes": [],
            "description": "",
            "_model_name": "HTMLModel",
            "placeholder": "​",
            "_view_module": "@jupyter-widgets/controls",
            "_model_module_version": "1.5.0",
            "value": " 83.3M/83.3M [41:14&lt;00:00, 35.3kB/s]",
            "_view_count": null,
            "_view_module_version": "1.5.0",
            "description_tooltip": null,
            "_model_module": "@jupyter-widgets/controls",
            "layout": "IPY_MODEL_96166b7b65c747598b6e394f3c903a7a"
          }
        },
        "5b0a32989ab9488da17ccbe8b310a15e": {
          "model_module": "@jupyter-widgets/controls",
          "model_name": "ProgressStyleModel",
          "state": {
            "_view_name": "StyleView",
            "_model_name": "ProgressStyleModel",
            "description_width": "initial",
            "_view_module": "@jupyter-widgets/base",
            "_model_module_version": "1.5.0",
            "_view_count": null,
            "_view_module_version": "1.2.0",
            "bar_color": null,
            "_model_module": "@jupyter-widgets/controls"
          }
        },
        "bad50a719a344f22873e407534cad7e0": {
          "model_module": "@jupyter-widgets/base",
          "model_name": "LayoutModel",
          "state": {
            "_view_name": "LayoutView",
            "grid_template_rows": null,
            "right": null,
            "justify_content": null,
            "_view_module": "@jupyter-widgets/base",
            "overflow": null,
            "_model_module_version": "1.2.0",
            "_view_count": null,
            "flex_flow": null,
            "width": null,
            "min_width": null,
            "border": null,
            "align_items": null,
            "bottom": null,
            "_model_module": "@jupyter-widgets/base",
            "top": null,
            "grid_column": null,
            "overflow_y": null,
            "overflow_x": null,
            "grid_auto_flow": null,
            "grid_area": null,
            "grid_template_columns": null,
            "flex": null,
            "_model_name": "LayoutModel",
            "justify_items": null,
            "grid_row": null,
            "max_height": null,
            "align_content": null,
            "visibility": null,
            "align_self": null,
            "height": null,
            "min_height": null,
            "padding": null,
            "grid_auto_rows": null,
            "grid_gap": null,
            "max_width": null,
            "order": null,
            "_view_module_version": "1.2.0",
            "grid_template_areas": null,
            "object_position": null,
            "object_fit": null,
            "grid_auto_columns": null,
            "margin": null,
            "display": null,
            "left": null
          }
        },
        "8f0740f4427f45878459fa3ce5780981": {
          "model_module": "@jupyter-widgets/controls",
          "model_name": "DescriptionStyleModel",
          "state": {
            "_view_name": "StyleView",
            "_model_name": "DescriptionStyleModel",
            "description_width": "",
            "_view_module": "@jupyter-widgets/base",
            "_model_module_version": "1.5.0",
            "_view_count": null,
            "_view_module_version": "1.2.0",
            "_model_module": "@jupyter-widgets/controls"
          }
        },
        "96166b7b65c747598b6e394f3c903a7a": {
          "model_module": "@jupyter-widgets/base",
          "model_name": "LayoutModel",
          "state": {
            "_view_name": "LayoutView",
            "grid_template_rows": null,
            "right": null,
            "justify_content": null,
            "_view_module": "@jupyter-widgets/base",
            "overflow": null,
            "_model_module_version": "1.2.0",
            "_view_count": null,
            "flex_flow": null,
            "width": null,
            "min_width": null,
            "border": null,
            "align_items": null,
            "bottom": null,
            "_model_module": "@jupyter-widgets/base",
            "top": null,
            "grid_column": null,
            "overflow_y": null,
            "overflow_x": null,
            "grid_auto_flow": null,
            "grid_area": null,
            "grid_template_columns": null,
            "flex": null,
            "_model_name": "LayoutModel",
            "justify_items": null,
            "grid_row": null,
            "max_height": null,
            "align_content": null,
            "visibility": null,
            "align_self": null,
            "height": null,
            "min_height": null,
            "padding": null,
            "grid_auto_rows": null,
            "grid_gap": null,
            "max_width": null,
            "order": null,
            "_view_module_version": "1.2.0",
            "grid_template_areas": null,
            "object_position": null,
            "object_fit": null,
            "grid_auto_columns": null,
            "margin": null,
            "display": null,
            "left": null
          }
        },
        "6e6ce1cc34194d88957d4b111f528f7e": {
          "model_module": "@jupyter-widgets/controls",
          "model_name": "HBoxModel",
          "state": {
            "_view_name": "HBoxView",
            "_dom_classes": [],
            "_model_name": "HBoxModel",
            "_view_module": "@jupyter-widgets/controls",
            "_model_module_version": "1.5.0",
            "_view_count": null,
            "_view_module_version": "1.5.0",
            "box_style": "",
            "layout": "IPY_MODEL_fe553978ae9f4a738ece6473ce72a21e",
            "_model_module": "@jupyter-widgets/controls",
            "children": [
              "IPY_MODEL_1fdd44b943514185a0cea457d6d22651",
              "IPY_MODEL_4a05d4ce41ed48bea66447b086a87fcd"
            ]
          }
        },
        "fe553978ae9f4a738ece6473ce72a21e": {
          "model_module": "@jupyter-widgets/base",
          "model_name": "LayoutModel",
          "state": {
            "_view_name": "LayoutView",
            "grid_template_rows": null,
            "right": null,
            "justify_content": null,
            "_view_module": "@jupyter-widgets/base",
            "overflow": null,
            "_model_module_version": "1.2.0",
            "_view_count": null,
            "flex_flow": null,
            "width": null,
            "min_width": null,
            "border": null,
            "align_items": null,
            "bottom": null,
            "_model_module": "@jupyter-widgets/base",
            "top": null,
            "grid_column": null,
            "overflow_y": null,
            "overflow_x": null,
            "grid_auto_flow": null,
            "grid_area": null,
            "grid_template_columns": null,
            "flex": null,
            "_model_name": "LayoutModel",
            "justify_items": null,
            "grid_row": null,
            "max_height": null,
            "align_content": null,
            "visibility": null,
            "align_self": null,
            "height": null,
            "min_height": null,
            "padding": null,
            "grid_auto_rows": null,
            "grid_gap": null,
            "max_width": null,
            "order": null,
            "_view_module_version": "1.2.0",
            "grid_template_areas": null,
            "object_position": null,
            "object_fit": null,
            "grid_auto_columns": null,
            "margin": null,
            "display": null,
            "left": null
          }
        },
        "1fdd44b943514185a0cea457d6d22651": {
          "model_module": "@jupyter-widgets/controls",
          "model_name": "FloatProgressModel",
          "state": {
            "_view_name": "ProgressView",
            "style": "IPY_MODEL_c0fdc29e33dd484f87f80087bf089da8",
            "_dom_classes": [],
            "description": "100%",
            "_model_name": "FloatProgressModel",
            "bar_style": "success",
            "max": 532194478,
            "_view_module": "@jupyter-widgets/controls",
            "_model_module_version": "1.5.0",
            "value": 532194478,
            "_view_count": null,
            "_view_module_version": "1.5.0",
            "orientation": "horizontal",
            "min": 0,
            "description_tooltip": null,
            "_model_module": "@jupyter-widgets/controls",
            "layout": "IPY_MODEL_7bd648fde5fd43c2b87c7ea2bd8c9f6a"
          }
        },
        "4a05d4ce41ed48bea66447b086a87fcd": {
          "model_module": "@jupyter-widgets/controls",
          "model_name": "HTMLModel",
          "state": {
            "_view_name": "HTMLView",
            "style": "IPY_MODEL_cf0a64367abc446e99051bf744071819",
            "_dom_classes": [],
            "description": "",
            "_model_name": "HTMLModel",
            "placeholder": "​",
            "_view_module": "@jupyter-widgets/controls",
            "_model_module_version": "1.5.0",
            "value": " 508M/508M [39:32&lt;00:00, 224kB/s]",
            "_view_count": null,
            "_view_module_version": "1.5.0",
            "description_tooltip": null,
            "_model_module": "@jupyter-widgets/controls",
            "layout": "IPY_MODEL_a509141cbc1442429c3f1a8c29df88f1"
          }
        },
        "c0fdc29e33dd484f87f80087bf089da8": {
          "model_module": "@jupyter-widgets/controls",
          "model_name": "ProgressStyleModel",
          "state": {
            "_view_name": "StyleView",
            "_model_name": "ProgressStyleModel",
            "description_width": "initial",
            "_view_module": "@jupyter-widgets/base",
            "_model_module_version": "1.5.0",
            "_view_count": null,
            "_view_module_version": "1.2.0",
            "bar_color": null,
            "_model_module": "@jupyter-widgets/controls"
          }
        },
        "7bd648fde5fd43c2b87c7ea2bd8c9f6a": {
          "model_module": "@jupyter-widgets/base",
          "model_name": "LayoutModel",
          "state": {
            "_view_name": "LayoutView",
            "grid_template_rows": null,
            "right": null,
            "justify_content": null,
            "_view_module": "@jupyter-widgets/base",
            "overflow": null,
            "_model_module_version": "1.2.0",
            "_view_count": null,
            "flex_flow": null,
            "width": null,
            "min_width": null,
            "border": null,
            "align_items": null,
            "bottom": null,
            "_model_module": "@jupyter-widgets/base",
            "top": null,
            "grid_column": null,
            "overflow_y": null,
            "overflow_x": null,
            "grid_auto_flow": null,
            "grid_area": null,
            "grid_template_columns": null,
            "flex": null,
            "_model_name": "LayoutModel",
            "justify_items": null,
            "grid_row": null,
            "max_height": null,
            "align_content": null,
            "visibility": null,
            "align_self": null,
            "height": null,
            "min_height": null,
            "padding": null,
            "grid_auto_rows": null,
            "grid_gap": null,
            "max_width": null,
            "order": null,
            "_view_module_version": "1.2.0",
            "grid_template_areas": null,
            "object_position": null,
            "object_fit": null,
            "grid_auto_columns": null,
            "margin": null,
            "display": null,
            "left": null
          }
        },
        "cf0a64367abc446e99051bf744071819": {
          "model_module": "@jupyter-widgets/controls",
          "model_name": "DescriptionStyleModel",
          "state": {
            "_view_name": "StyleView",
            "_model_name": "DescriptionStyleModel",
            "description_width": "",
            "_view_module": "@jupyter-widgets/base",
            "_model_module_version": "1.5.0",
            "_view_count": null,
            "_view_module_version": "1.2.0",
            "_model_module": "@jupyter-widgets/controls"
          }
        },
        "a509141cbc1442429c3f1a8c29df88f1": {
          "model_module": "@jupyter-widgets/base",
          "model_name": "LayoutModel",
          "state": {
            "_view_name": "LayoutView",
            "grid_template_rows": null,
            "right": null,
            "justify_content": null,
            "_view_module": "@jupyter-widgets/base",
            "overflow": null,
            "_model_module_version": "1.2.0",
            "_view_count": null,
            "flex_flow": null,
            "width": null,
            "min_width": null,
            "border": null,
            "align_items": null,
            "bottom": null,
            "_model_module": "@jupyter-widgets/base",
            "top": null,
            "grid_column": null,
            "overflow_y": null,
            "overflow_x": null,
            "grid_auto_flow": null,
            "grid_area": null,
            "grid_template_columns": null,
            "flex": null,
            "_model_name": "LayoutModel",
            "justify_items": null,
            "grid_row": null,
            "max_height": null,
            "align_content": null,
            "visibility": null,
            "align_self": null,
            "height": null,
            "min_height": null,
            "padding": null,
            "grid_auto_rows": null,
            "grid_gap": null,
            "max_width": null,
            "order": null,
            "_view_module_version": "1.2.0",
            "grid_template_areas": null,
            "object_position": null,
            "object_fit": null,
            "grid_auto_columns": null,
            "margin": null,
            "display": null,
            "left": null
          }
        }
      }
    }
  },
  "cells": [
    {
      "cell_type": "markdown",
      "metadata": {
        "id": "Vdu14M6DLMiM"
      },
      "source": [
        "# Car Classification Model"
      ]
    },
    {
      "cell_type": "markdown",
      "metadata": {
        "id": "4KIil4iaLaX_"
      },
      "source": [
        "**Задача:** сделать проект по классификации автомашин в произвольном формате. Скрипт должен по предоставленной фотографии определять марку, модель и цвет автомобиля"
      ]
    },
    {
      "cell_type": "markdown",
      "metadata": {
        "id": "8HymtGguLotc"
      },
      "source": [
        "## Определение марки и модели автомобиля"
      ]
    },
    {
      "cell_type": "markdown",
      "metadata": {
        "id": "xbnLFnKiLxPJ"
      },
      "source": [
        "В качестве датасета для обучения воспользуемся [Cars Dataset](https://ai.stanford.edu/~jkrause/cars/car_dataset.html), содержащий 16 185 изображений 196 классов - марок+моделей автомобилей, например, BMW 1 Series Convertible 2012. Датасет разделен на обучение и тест (50 / 50)."
      ]
    },
    {
      "cell_type": "code",
      "metadata": {
        "id": "tycG5zZ27ogn"
      },
      "source": [
        "import os\n",
        "import argparse\n",
        "import shutil\n",
        "import random\n",
        "import json\n",
        "import numpy as np\n",
        "\n",
        "import cv2\n",
        "import torch\n",
        "import torch.nn as nn\n",
        "import torch.nn.functional as F\n",
        "import torch.optim as optim\n",
        "\n",
        "from torch.utils.data.dataset import Dataset\n",
        "from torch.utils.data import DataLoader\n",
        "from torchvision import datasets, models, transforms\n",
        "\n",
        "from sklearn.metrics import roc_auc_score\n",
        "from scipy.io import loadmat\n",
        "from pathlib import Path\n",
        "\n",
        "import matplotlib.pyplot as plt\n",
        "%matplotlib inline"
      ],
      "execution_count": 2,
      "outputs": []
    },
    {
      "cell_type": "code",
      "metadata": {
        "id": "vBeo68GCiUIi"
      },
      "source": [
        "torch.random.manual_seed(123)\n",
        "np.random.seed(123)\n",
        "random.seed(123)"
      ],
      "execution_count": null,
      "outputs": []
    },
    {
      "cell_type": "code",
      "metadata": {
        "id": "uIpYlpWJ1-S1"
      },
      "source": [
        "class StanfordCarsDataset(Dataset):\n",
        "\n",
        "    def __init__(self, images, labels, transforms=None):\n",
        "        self.images = images\n",
        "        self.labels = labels\n",
        "        self.transforms = transforms\n",
        "\n",
        "    def __getitem__(self, index):\n",
        "        img = cv2.imread(self.images[index])\n",
        "        img = cv2.cvtColor(img, cv2.COLOR_BGR2RGB)\n",
        "        img = torch.tensor(np.transpose(img, [2,0,1]))\n",
        "        if self.transforms:\n",
        "            img = self.transforms(img.float().div(255))\n",
        "        return (img, self.labels[index])\n",
        "\n",
        "    def __len__(self):\n",
        "        return len(self.images)"
      ],
      "execution_count": null,
      "outputs": []
    },
    {
      "cell_type": "code",
      "metadata": {
        "id": "FJq-4TyZO6Fz"
      },
      "source": [
        "class MultiClassTrainer:\n",
        "\n",
        "    def __init__(self, model, optimizer, scheduler, num_classes,\n",
        "                 path_to_save='./', suffix='model'):\n",
        "        self.model = model\n",
        "        self.optimizer = optimizer\n",
        "        self.scheduler = scheduler\n",
        "        self.num_classes = num_classes\n",
        "        self.criterion = nn.CrossEntropyLoss()\n",
        "        self.path_to_save = path_to_save\n",
        "        self.suffix = suffix\n",
        "        self.metrics = {\n",
        "            k: {'loss':[], 'acc':[], 'roc-auc':[]} for k in ['train','test']\n",
        "        }\n",
        "        self.best_roc_auc = None\n",
        "\n",
        "\n",
        "    def roc_auc(self, epoch_target, epoch_predict):\n",
        "        epoch_target = np.hstack(epoch_target)\n",
        "        epoch_predict = np.hstack(epoch_predict)\n",
        "        bin_predict = np.zeros(\n",
        "            (epoch_predict.shape[0], self.num_classes), dtype=int)\n",
        "        bin_target = np.zeros_like(bin_predict)\n",
        "        bin_predict[np.arange(epoch_predict.shape[0]), epoch_predict] = 1\n",
        "        bin_target[np.arange(epoch_target.shape[0]), epoch_target] = 1\n",
        "        return roc_auc_score(bin_target, bin_predict, multi_class='ovr') \n",
        "\n",
        "\n",
        "    def train(self, loader):\n",
        "\n",
        "        self.model.train()\n",
        "        epoch_loss, epoch_acc = 0, 0\n",
        "        epoch_predict, epoch_target = [], []\n",
        "        for (batch, target) in loader:\n",
        "            \n",
        "            self.optimizer.zero_grad()\n",
        "            outputs = self.model(batch.to(DEVICE))\n",
        "            _, predicts = torch.max(outputs, 1)\n",
        "            predicts = predicts.detach().cpu()\n",
        "\n",
        "            loss = self.criterion(outputs, target.long().to(DEVICE))  \n",
        "            epoch_loss += loss.item()\n",
        "            epoch_acc += torch.sum(predicts == target).float().item()\n",
        "            epoch_predict.append(predicts.numpy())\n",
        "            epoch_target.append(target.long().numpy())\n",
        "\n",
        "            loss.backward()\n",
        "            self.optimizer.step()\n",
        "\n",
        "        num_obj = np.hstack(epoch_target).shape[0]\n",
        "        self.metrics['train']['loss'].append(epoch_loss / num_obj)\n",
        "        self.metrics['train']['acc'].append(epoch_acc / num_obj)\n",
        "        self.metrics['train']['roc-auc'].append(\n",
        "            self.roc_auc(epoch_target, epoch_predict))\n",
        "        \n",
        "\n",
        "    def test(self, loader, multi_class='ovo', save_best=False):\n",
        "        self.model.eval()\n",
        "        epoch_loss, epoch_acc = 0, 0\n",
        "        epoch_predict, epoch_target = [], []\n",
        "        for (batch, target) in loader:\n",
        "            \n",
        "            outputs = self.model(batch.to(DEVICE))\n",
        "            _, predicts = torch.max(outputs, 1)\n",
        "            predicts = predicts.detach().cpu()\n",
        "\n",
        "            loss = self.criterion(outputs, target.long().to(DEVICE))  \n",
        "            epoch_loss += loss.item()\n",
        "            epoch_acc += torch.sum(predicts == target).float().item()\n",
        "            epoch_predict.append(predicts.numpy())\n",
        "            epoch_target.append(target.long().numpy())\n",
        "\n",
        "        num_obj = np.hstack(epoch_target).shape[0]\n",
        "        self.metrics['test']['loss'].append(epoch_loss / num_obj)\n",
        "        self.metrics['test']['acc'].append(epoch_acc / num_obj)\n",
        "        self.metrics['test']['roc-auc'].append(\n",
        "            self.roc_auc(epoch_target, epoch_predict))\n",
        "\n",
        "        if save_best and self.best_roc_auc is not None and \n",
        "                self.metrics['test']['roc-auc'][-1] > self.best_roc_auc:\n",
        "            self.save_model()\n",
        "            self.best_roc_auc = self.metrics['test']['roc-auc'][-1]\n",
        "\n",
        "        self.scheduler.step(self.metrics['test']['roc-auc'][-1])\n",
        "\n",
        "\n",
        "    def save_model(self, best=False):\n",
        "        prefix = 'best_' if best else ''\n",
        "        torch.save(\n",
        "            self.model.state_dict(),\n",
        "            Path(self.path_to_save).joinpath(f'{prefix}{self.suffix}.pth')\n",
        "        )\n",
        "    \n",
        "    def save_metrics(self):\n",
        "        path = Path(self.path_to_save).joinpath(f'{self.suffix}_metrics.json')\n",
        "        with open(path,'w') as f:\n",
        "            json.dump(self.metrics, f)"
      ],
      "execution_count": null,
      "outputs": []
    },
    {
      "cell_type": "code",
      "metadata": {
        "id": "8MJh0IuR8lxu"
      },
      "source": [
        "annotations = loadmat('cars_annos.mat')\n",
        "class_names = annotations['class_names']\n",
        "images, bboxes, labels, split = [], [], [], []\n",
        "for img, x1, y1, x2, y2, label, s in annotations['annotations'].flatten():\n",
        "    images.append(img)\n",
        "    bboxes.append((x1, y1, x2, y2))\n",
        "    labels.append(label)\n",
        "    split.append(s == 0)\n",
        "images = np.vstack(images).flatten()\n",
        "bboxes = np.hstack(bboxes).transpose()[0]\n",
        "labels = np.vstack(labels).flatten() - 1\n",
        "split = np.vstack(split).flatten()\n",
        "\n",
        "# ('bbox_x1', 'O'), ('bbox_y1', 'O'), ('bbox_x2', 'O'), ('bbox_y2', 'O'), ('class', 'O'), ('test', 'O')"
      ],
      "execution_count": null,
      "outputs": []
    },
    {
      "cell_type": "code",
      "metadata": {
        "colab": {
          "base_uri": "https://localhost:8080/"
        },
        "id": "QkGTPwrON5es",
        "outputId": "407d1f81-7506-4eb7-9cc6-8ec4c8fbfd31"
      },
      "source": [
        "NUM_CLASSES = len(set(labels))\n",
        "BATCH_SIZE = 64\n",
        "DEVICE = 'cuda' if torch.cuda.is_available() else 'cpu'\n",
        "NUM_CLASSES, DEVICE"
      ],
      "execution_count": null,
      "outputs": [
        {
          "output_type": "execute_result",
          "data": {
            "text/plain": [
              "(196, 'cuda')"
            ]
          },
          "metadata": {
            "tags": []
          },
          "execution_count": 7
        }
      ]
    },
    {
      "cell_type": "code",
      "metadata": {
        "id": "mju8d-XJrKJD"
      },
      "source": [
        "train_transforms = transforms.Compose(\n",
        "    [\n",
        "        transforms.RandomResizedCrop(224),\n",
        "        transforms.RandomHorizontalFlip(),\n",
        "        transforms.Normalize([0.485, 0.456, 0.406], [0.229, 0.224, 0.225])\n",
        "    ])\n",
        "test_transforms = transforms.Compose(\n",
        "    [\n",
        "        transforms.Resize(256),\n",
        "        transforms.CenterCrop(224),\n",
        "        transforms.Normalize([0.485, 0.456, 0.406], [0.229, 0.224, 0.225])\n",
        "    ])\n",
        "\n",
        "train_dataset = StanfordCarsDataset(\n",
        "    images[split], labels[split], train_transforms)\n",
        "test_dataset = StanfordCarsDataset(\n",
        "    images[~split], labels[~split], test_transforms)\n",
        "                 \n",
        "train_iter = DataLoader(\n",
        "    train_dataset, batch_size=BATCH_SIZE, shuffle=True, num_workers=4)\n",
        "test_iter = DataLoader(\n",
        "    test_dataset, batch_size=BATCH_SIZE, shuffle=True, num_workers=4)"
      ],
      "execution_count": null,
      "outputs": []
    },
    {
      "cell_type": "markdown",
      "metadata": {
        "id": "wm8UHXi42DsB"
      },
      "source": [
        "## Mark-Model Classification: Resnet34 vs VGG16"
      ]
    },
    {
      "cell_type": "markdown",
      "metadata": {
        "id": "dTfI5Q1gTBrV"
      },
      "source": [
        "Для построения классификатора возьмем модели Resnet34 и VGG16, предобученные на датасете ImageNet. Веса будут хорошей инициализацией. Заменим последний полносвязный слой на слой с 196 выходами и обучим всю сеть полностью на новом таргете."
      ]
    },
    {
      "cell_type": "markdown",
      "metadata": {
        "id": "4fUk5BeAUr_A"
      },
      "source": [
        "### Resnet34"
      ]
    },
    {
      "cell_type": "code",
      "metadata": {
        "colab": {
          "base_uri": "https://localhost:8080/",
          "height": 825,
          "referenced_widgets": [
            "8d1a487660d14608acb9f9faf65cb4e2",
            "502f9dded2374f86892af3e9c3daee62",
            "e2a26e5a08ca4975884ea8e13e940684",
            "739c0852b65744d9a7b3df4a5529a224",
            "5b0a32989ab9488da17ccbe8b310a15e",
            "bad50a719a344f22873e407534cad7e0",
            "8f0740f4427f45878459fa3ce5780981",
            "96166b7b65c747598b6e394f3c903a7a"
          ]
        },
        "id": "yQbcIlAFVLCh",
        "outputId": "7298b69b-98f0-4ed1-c54a-a57410ce137e"
      },
      "source": [
        "model_rsn = models.resnet34(pretrained=True) # vgg19, resnext101_32x8d\n",
        "input_dim = model_rsn.fc.in_features\n",
        "model_rsn.fc = nn.Linear(\n",
        "    in_features=input_dim, out_features=NUM_CLASSES, bias=True)\n",
        "\n",
        "model_rsn = model_rsn.to(DEVICE)\n",
        "optimizer_rsn = optim.SGD(model_rsn.parameters(), lr=0.01, momentum=0.9)\n",
        "scheduler_rsn = optim.lr_scheduler.ReduceLROnPlateau(\n",
        "    optimizer_rsn, mode='max', patience=2, threshold=0.001, eps=1e-5)\n",
        "\n",
        "trainer_rsn = MultiClassTrainer(\n",
        "    model_rsn, optimizer_rsn, scheduler_rsn, NUM_CLASSES, suffix='resnet34')\n",
        "\n",
        "for epoch in range(10):\n",
        "    print(f'\\n{epoch+1:02d}')\n",
        "    trainer_rsn.train(train_iter)\n",
        "    trainer_rsn.test(test_iter)\n",
        "    for t in ['train','test']:\n",
        "      print(\n",
        "          '{:>5}: Loss={:.4f}, Acc={:.4f}, ROC-AUC={:.4f}'.format(\n",
        "              t, trainer_rsn.metrics[t]['loss'][-1], \n",
        "              trainer_rsn.metrics[t]['acc'][-1],\n",
        "              trainer_rsn.metrics[t]['roc-auc'][-1])\n",
        "      )"
      ],
      "execution_count": null,
      "outputs": [
        {
          "output_type": "stream",
          "text": [
            "Downloading: \"https://download.pytorch.org/models/resnet34-333f7ec4.pth\" to /root/.cache/torch/hub/checkpoints/resnet34-333f7ec4.pth\n"
          ],
          "name": "stderr"
        },
        {
          "output_type": "display_data",
          "data": {
            "application/vnd.jupyter.widget-view+json": {
              "model_id": "8d1a487660d14608acb9f9faf65cb4e2",
              "version_major": 2,
              "version_minor": 0
            },
            "text/plain": [
              "HBox(children=(FloatProgress(value=0.0, max=87306240.0), HTML(value='')))"
            ]
          },
          "metadata": {
            "tags": []
          }
        },
        {
          "output_type": "stream",
          "text": [
            "\n",
            "\n",
            "01\n",
            "train: Loss=0.0719, Acc=0.0748, ROC-AUC=0.5340\n",
            " test: Loss=0.0520, Acc=0.2083, ROC-AUC=0.6001\n",
            "\n",
            "02\n",
            "train: Loss=0.0454, Acc=0.3092, ROC-AUC=0.6515\n",
            " test: Loss=0.0348, Acc=0.4228, ROC-AUC=0.7069\n",
            "\n",
            "03\n",
            "train: Loss=0.0326, Acc=0.4758, ROC-AUC=0.7357\n",
            " test: Loss=0.0256, Acc=0.5530, ROC-AUC=0.7767\n",
            "\n",
            "04\n",
            "train: Loss=0.0261, Acc=0.5760, ROC-AUC=0.7860\n",
            " test: Loss=0.0220, Acc=0.5986, ROC-AUC=0.7986\n",
            "\n",
            "05\n",
            "train: Loss=0.0219, Acc=0.6349, ROC-AUC=0.8154\n",
            " test: Loss=0.0185, Acc=0.6643, ROC-AUC=0.8324\n",
            "\n",
            "06\n",
            "train: Loss=0.0199, Acc=0.6611, ROC-AUC=0.8286\n",
            " test: Loss=0.0166, Acc=0.6903, ROC-AUC=0.8430\n",
            "\n",
            "07\n",
            "train: Loss=0.0174, Acc=0.7044, ROC-AUC=0.8512\n",
            " test: Loss=0.0166, Acc=0.6977, ROC-AUC=0.8468\n",
            "\n",
            "08\n",
            "train: Loss=0.0161, Acc=0.7297, ROC-AUC=0.8636\n",
            " test: Loss=0.0150, Acc=0.7255, ROC-AUC=0.8633\n",
            "\n",
            "09\n",
            "train: Loss=0.0153, Acc=0.7377, ROC-AUC=0.8677\n",
            " test: Loss=0.0151, Acc=0.7227, ROC-AUC=0.8592\n",
            "\n",
            "10\n",
            "train: Loss=0.0136, Acc=0.7710, ROC-AUC=0.8850\n",
            " test: Loss=0.0153, Acc=0.7207, ROC-AUC=0.8593\n"
          ],
          "name": "stdout"
        }
      ]
    },
    {
      "cell_type": "code",
      "metadata": {
        "id": "gXdjVYc_k7gD"
      },
      "source": [
        "trainer_rsn.save_model()\n",
        "trainer_rsn.save_metrics()"
      ],
      "execution_count": null,
      "outputs": []
    },
    {
      "cell_type": "markdown",
      "metadata": {
        "id": "xZVzN12u1-0j"
      },
      "source": [
        "### VGG 13"
      ]
    },
    {
      "cell_type": "code",
      "metadata": {
        "id": "-ryX55JZJK4P"
      },
      "source": [
        "torch.random.manual_seed(123)\n",
        "np.random.seed(123)\n",
        "random.seed(123)"
      ],
      "execution_count": null,
      "outputs": []
    },
    {
      "cell_type": "code",
      "metadata": {
        "id": "tIfEZL3GjOEh",
        "colab": {
          "base_uri": "https://localhost:8080/",
          "height": 805,
          "referenced_widgets": [
            "6e6ce1cc34194d88957d4b111f528f7e",
            "fe553978ae9f4a738ece6473ce72a21e",
            "1fdd44b943514185a0cea457d6d22651",
            "4a05d4ce41ed48bea66447b086a87fcd",
            "c0fdc29e33dd484f87f80087bf089da8",
            "7bd648fde5fd43c2b87c7ea2bd8c9f6a",
            "cf0a64367abc446e99051bf744071819",
            "a509141cbc1442429c3f1a8c29df88f1"
          ]
        },
        "outputId": "66377d69-bbf0-4b73-f1d9-50775090ca09"
      },
      "source": [
        "model_vgg = models.vgg13(pretrained=True) \n",
        "input_dim = model_vgg.classifier[6].in_features\n",
        "model_vgg.classifier[6] = nn.Linear(\n",
        "    in_features=input_dim, out_features=NUM_CLASSES, bias=True)\n",
        "\n",
        "model_vgg = model_vgg.to(DEVICE)\n",
        "optimizer_vgg = optim.SGD(model_vgg.parameters(), lr=0.01, momentum=0.9)\n",
        "scheduler_vgg = optim.lr_scheduler.ReduceLROnPlateau(\n",
        "    optimizer_vgg, mode='max', patience=3, threshold=0.001, eps=1e-5)\n",
        "\n",
        "trainer_vgg = MultiClassTrainer(\n",
        "    model_vgg, optimizer_vgg, scheduler_vgg, NUM_CLASSES, suffix='vgg13')\n",
        "\n",
        "for epoch in range(10):\n",
        "    print(f'\\n{epoch+1:02d}')\n",
        "    trainer_vgg.train(train_iter)\n",
        "    trainer_vgg.test(test_iter)\n",
        "    for t in ['train','test']:\n",
        "      print(\n",
        "          '{:>5}: Loss={:.4f}, Acc={:.4f}, ROC-AUC={:.4f}'.format(\n",
        "              t, trainer_vgg.metrics[t]['loss'][-1], \n",
        "              trainer_vgg.metrics[t]['acc'][-1],\n",
        "              trainer_vgg.metrics[t]['roc-auc'][-1])\n",
        "      )"
      ],
      "execution_count": null,
      "outputs": [
        {
          "output_type": "stream",
          "text": [
            "Downloading: \"https://download.pytorch.org/models/vgg13-c768596a.pth\" to /root/.cache/torch/hub/checkpoints/vgg13-c768596a.pth\n"
          ],
          "name": "stderr"
        },
        {
          "output_type": "display_data",
          "data": {
            "application/vnd.jupyter.widget-view+json": {
              "model_id": "6e6ce1cc34194d88957d4b111f528f7e",
              "version_minor": 0,
              "version_major": 2
            },
            "text/plain": [
              "HBox(children=(FloatProgress(value=0.0, max=532194478.0), HTML(value='')))"
            ]
          },
          "metadata": {
            "tags": []
          }
        },
        {
          "output_type": "stream",
          "text": [
            "\n",
            "\n",
            "01\n",
            "train: Loss=0.0794, Acc=0.0239, ROC-AUC=0.5086\n",
            " test: Loss=0.0690, Acc=0.0971, ROC-AUC=0.5443\n",
            "\n",
            "02\n",
            "train: Loss=0.0670, Acc=0.0974, ROC-AUC=0.5457\n",
            " test: Loss=0.0539, Acc=0.1847, ROC-AUC=0.5887\n",
            "\n",
            "03\n",
            "train: Loss=0.0569, Acc=0.1690, ROC-AUC=0.5816\n",
            " test: Loss=0.0438, Acc=0.3057, ROC-AUC=0.6497\n",
            "\n",
            "04\n",
            "train: Loss=0.0493, Acc=0.2437, ROC-AUC=0.6190\n",
            " test: Loss=0.0351, Acc=0.4151, ROC-AUC=0.7059\n",
            "\n",
            "05\n",
            "train: Loss=0.0439, Acc=0.3172, ROC-AUC=0.6559\n",
            " test: Loss=0.0334, Acc=0.4345, ROC-AUC=0.7169\n",
            "\n",
            "06\n",
            "train: Loss=0.0407, Acc=0.3560, ROC-AUC=0.6751\n",
            " test: Loss=0.0294, Acc=0.4955, ROC-AUC=0.7464\n",
            "\n",
            "07\n",
            "train: Loss=0.0372, Acc=0.4104, ROC-AUC=0.7034\n",
            " test: Loss=0.0255, Acc=0.5614, ROC-AUC=0.7782\n",
            "\n",
            "08\n",
            "train: Loss=0.0337, Acc=0.4559, ROC-AUC=0.7259\n",
            " test: Loss=0.0235, Acc=0.6010, ROC-AUC=0.7999\n",
            "\n",
            "09\n",
            "train: Loss=0.0315, Acc=0.4903, ROC-AUC=0.7436\n",
            " test: Loss=0.0209, Acc=0.6298, ROC-AUC=0.8133\n",
            "\n",
            "10\n",
            "train: Loss=0.0298, Acc=0.5123, ROC-AUC=0.7549\n",
            " test: Loss=0.0202, Acc=0.6444, ROC-AUC=0.8197\n"
          ],
          "name": "stdout"
        }
      ]
    },
    {
      "cell_type": "code",
      "metadata": {
        "colab": {
          "base_uri": "https://localhost:8080/",
          "height": 389
        },
        "id": "rg_a8eoiXjEC",
        "outputId": "43b9c8b6-07e0-4d06-8e4e-02b30340d4ef"
      },
      "source": [
        "fig, axs = plt.subplots(nrows=1, ncols=2, figsize=(12,6))\n",
        "n_epoches = len(trainer_vgg.metrics['test']['roc-auc'])\n",
        "\n",
        "axs[0].plot(\n",
        "    np.arange(n_epoches)+1, trainer_rsn.metrics['train']['roc-auc'],\n",
        "    color='darkgreen', label='resnet34 - train')\n",
        "axs[0].plot(\n",
        "    np.arange(n_epoches)+1, trainer_rsn.metrics['test']['roc-auc'],\n",
        "    color='darkgreen', ls='--', label='resnet34 - test')\n",
        "axs[0].plot(\n",
        "    np.arange(n_epoches)+1, trainer_vgg.metrics['train']['roc-auc'],\n",
        "    color='darkorange', label='vgg13 - train')\n",
        "axs[0].plot(\n",
        "    np.arange(n_epoches)+1, trainer_vgg.metrics['test']['roc-auc'],\n",
        "    color='darkorange', ls='--', label='vgg13 - test')\n",
        "axs[0].legend(loc='lower right')\n",
        "axs[0].set_xlabel('Epoches')\n",
        "axs[0].set_ylabel('ROC-AUC')\n",
        "axs[0].grid()\n",
        "\n",
        "axs[1].plot(\n",
        "    np.arange(n_epoches)+1, trainer_rsn.metrics['train']['acc'],\n",
        "    color='darkgreen', label='resnet34 - train')\n",
        "axs[1].plot(\n",
        "    np.arange(n_epoches)+1, trainer_rsn.metrics['test']['acc'],\n",
        "    color='darkgreen', ls='--', label='resnet34 - test')\n",
        "axs[1].plot(\n",
        "    np.arange(n_epoches)+1, trainer_vgg.metrics['train']['acc'],\n",
        "    color='darkorange', label='vgg13 - train')\n",
        "axs[1].plot(\n",
        "    np.arange(n_epoches)+1, trainer_vgg.metrics['test']['acc'],\n",
        "    color='darkorange', ls='--', label='vgg13 - test')\n",
        "axs[1].legend(loc='lower right')\n",
        "axs[1].set_xlabel('Epoches')\n",
        "axs[1].set_ylabel('Accuracy')\n",
        "axs[1].grid();"
      ],
      "execution_count": null,
      "outputs": [
        {
          "output_type": "display_data",
          "data": {
            "image/png": "[encoded data removed]",
            "text/plain": [
              "<Figure size 864x432 with 2 Axes>"
            ]
          },
          "metadata": {
            "tags": [],
            "needs_background": "light"
          }
        }
      ]
    },
    {
      "cell_type": "code",
      "metadata": {
        "id": "9IHm4hjYQwlh"
      },
      "source": [
        "Path('./model/').mkdir()\n",
        "idx_to_class = {i:c[0] for i,c in enumerate(class_names[0])}\n",
        "with open('./model/idx_to_class.json','w') as f:\n",
        "    json.dump(idx_to_class, f)"
      ],
      "execution_count": null,
      "outputs": []
    },
    {
      "cell_type": "markdown",
      "metadata": {
        "id": "iWPp99hxQsQW"
      },
      "source": [
        "В качестве итогового варианта выбрана модель на основе сети Resnet34, посколько она достигает более высокое качества (по метрике ROC-AUC) за то же количество эпох, чем VGG16. Проведем для нее более длительную тренировку. "
      ]
    },
    {
      "cell_type": "code",
      "metadata": {
        "id": "-9nh66KMhLlV"
      },
      "source": [
        "torch.random.manual_seed(123)\n",
        "np.random.seed(123)\n",
        "random.seed(123)"
      ],
      "execution_count": null,
      "outputs": []
    },
    {
      "cell_type": "code",
      "metadata": {
        "colab": {
          "base_uri": "https://localhost:8080/"
        },
        "id": "p9d3pKADDzxi",
        "outputId": "6c26610d-faee-4b82-80cb-0bb60825198a"
      },
      "source": [
        "model_final = models.resnet34(pretrained=True) # vgg19, resnext101_32x8d\n",
        "input_dim = model_final.fc.in_features\n",
        "model_final.fc = nn.Linear(\n",
        "    in_features=input_dim, out_features=NUM_CLASSES, bias=True)\n",
        "\n",
        "model_final = model_final.to(DEVICE)\n",
        "optimizer_final = optim.SGD(model_final.parameters(), lr=0.01, momentum=0.9)\n",
        "scheduler_final = optim.lr_scheduler.ReduceLROnPlateau(\n",
        "    optimizer_final, mode='max', patience=2, threshold=0.001, eps=1e-5)\n",
        "\n",
        "trainer_final = MultiClassTrainer(\n",
        "    model_final, optimizer_final, scheduler_final, NUM_CLASSES,\n",
        "    path_to_save='./model/', suffix='model_classifier')\n",
        "\n",
        "for epoch in range(30):\n",
        "    print(f'\\n{epoch+1:02d}')\n",
        "    trainer_final.train(train_iter)\n",
        "    trainer_final.test(test_iter, save_best=True)\n",
        "    for t in ['train','test']:\n",
        "        print(\n",
        "            '{:>5}: Loss={:.4f}, Acc={:.4f}, ROC-AUC={:.4f}'.format(\n",
        "                t, trainer_final.metrics[t]['loss'][-1], \n",
        "                trainer_final.metrics[t]['acc'][-1],\n",
        "                trainer_final.metrics[t]['roc-auc'][-1])\n",
        "        )\n",
        "    train_test_delta = trainer_final.metrics['train']['roc-auc'][-1] - \\\n",
        "      trainer_final.metrics['test']['roc-auc'][-1]\n",
        "    if train_test_delta > 5:\n",
        "        break\n",
        "trainer_final.save_metrics()\n",
        "trainer_final.save_model()"
      ],
      "execution_count": null,
      "outputs": [
        {
          "output_type": "stream",
          "text": [
            "\n",
            "01\n",
            "train: Loss=0.0719, Acc=0.0772, ROC-AUC=0.5352\n",
            " test: Loss=0.0527, Acc=0.2007, ROC-AUC=0.5965\n",
            "\n",
            "02\n",
            "train: Loss=0.0453, Acc=0.3078, ROC-AUC=0.6505\n",
            " test: Loss=0.0372, Acc=0.3837, ROC-AUC=0.6865\n",
            "\n",
            "03\n",
            "train: Loss=0.0325, Acc=0.4762, ROC-AUC=0.7359\n",
            " test: Loss=0.0252, Acc=0.5542, ROC-AUC=0.7762\n",
            "\n",
            "04\n",
            "train: Loss=0.0263, Acc=0.5670, ROC-AUC=0.7817\n",
            " test: Loss=0.0218, Acc=0.6139, ROC-AUC=0.8069\n",
            "\n",
            "05\n",
            "train: Loss=0.0219, Acc=0.6332, ROC-AUC=0.8148\n",
            " test: Loss=0.0221, Acc=0.6015, ROC-AUC=0.7992\n",
            "\n",
            "06\n",
            "train: Loss=0.0200, Acc=0.6645, ROC-AUC=0.8305\n",
            " test: Loss=0.0196, Acc=0.6444, ROC-AUC=0.8196\n",
            "\n",
            "07\n",
            "train: Loss=0.0174, Acc=0.7060, ROC-AUC=0.8516\n",
            " test: Loss=0.0163, Acc=0.6998, ROC-AUC=0.8483\n",
            "\n",
            "08\n",
            "train: Loss=0.0163, Acc=0.7237, ROC-AUC=0.8605\n",
            " test: Loss=0.0142, Acc=0.7378, ROC-AUC=0.8690\n",
            "\n",
            "09\n",
            "train: Loss=0.0152, Acc=0.7439, ROC-AUC=0.8709\n",
            " test: Loss=0.0136, Acc=0.7525, ROC-AUC=0.8744\n",
            "\n",
            "10\n",
            "train: Loss=0.0135, Acc=0.7749, ROC-AUC=0.8867\n",
            " test: Loss=0.0153, Acc=0.7212, ROC-AUC=0.8591\n",
            "\n",
            "11\n",
            "train: Loss=0.0125, Acc=0.7856, ROC-AUC=0.8917\n",
            " test: Loss=0.0133, Acc=0.7567, ROC-AUC=0.8766\n",
            "\n",
            "12\n",
            "train: Loss=0.0126, Acc=0.7876, ROC-AUC=0.8926\n",
            " test: Loss=0.0140, Acc=0.7410, ROC-AUC=0.8692\n",
            "\n",
            "13\n",
            "train: Loss=0.0119, Acc=0.8022, ROC-AUC=0.9002\n",
            " test: Loss=0.0134, Acc=0.7643, ROC-AUC=0.8803\n",
            "\n",
            "14\n",
            "train: Loss=0.0119, Acc=0.7985, ROC-AUC=0.8980\n",
            " test: Loss=0.0123, Acc=0.7753, ROC-AUC=0.8870\n",
            "\n",
            "15\n",
            "train: Loss=0.0111, Acc=0.8135, ROC-AUC=0.9059\n",
            " test: Loss=0.0123, Acc=0.7811, ROC-AUC=0.8900\n",
            "\n",
            "16\n",
            "train: Loss=0.0104, Acc=0.8213, ROC-AUC=0.9098\n",
            " test: Loss=0.0115, Acc=0.7904, ROC-AUC=0.8941\n",
            "\n",
            "17\n",
            "train: Loss=0.0103, Acc=0.8244, ROC-AUC=0.9117\n",
            " test: Loss=0.0111, Acc=0.8043, ROC-AUC=0.9015\n",
            "\n",
            "18\n",
            "train: Loss=0.0098, Acc=0.8323, ROC-AUC=0.9153\n",
            " test: Loss=0.0123, Acc=0.7806, ROC-AUC=0.8889\n",
            "\n",
            "19\n",
            "train: Loss=0.0099, Acc=0.8303, ROC-AUC=0.9145\n",
            " test: Loss=0.0114, Acc=0.7973, ROC-AUC=0.8973\n",
            "\n",
            "20\n",
            "train: Loss=0.0088, Acc=0.8495, ROC-AUC=0.9237\n",
            " test: Loss=0.0117, Acc=0.7928, ROC-AUC=0.8951\n",
            "\n",
            "21\n",
            "train: Loss=0.0075, Acc=0.8797, ROC-AUC=0.9394\n",
            " test: Loss=0.0077, Acc=0.8560, ROC-AUC=0.9271\n",
            "\n",
            "22\n",
            "train: Loss=0.0064, Acc=0.8977, ROC-AUC=0.9483\n",
            " test: Loss=0.0074, Acc=0.8611, ROC-AUC=0.9300\n",
            "\n",
            "23\n",
            "train: Loss=0.0061, Acc=0.9040, ROC-AUC=0.9517\n",
            " test: Loss=0.0072, Acc=0.8622, ROC-AUC=0.9305\n",
            "\n",
            "24\n",
            "train: Loss=0.0058, Acc=0.9078, ROC-AUC=0.9535\n",
            " test: Loss=0.0071, Acc=0.8652, ROC-AUC=0.9319\n",
            "\n",
            "25\n",
            "train: Loss=0.0056, Acc=0.9140, ROC-AUC=0.9568\n",
            " test: Loss=0.0071, Acc=0.8667, ROC-AUC=0.9325\n",
            "\n",
            "26\n",
            "train: Loss=0.0055, Acc=0.9136, ROC-AUC=0.9563\n",
            " test: Loss=0.0070, Acc=0.8668, ROC-AUC=0.9325\n",
            "\n",
            "27\n",
            "train: Loss=0.0055, Acc=0.9120, ROC-AUC=0.9555\n",
            " test: Loss=0.0070, Acc=0.8662, ROC-AUC=0.9322\n",
            "\n",
            "28\n",
            "train: Loss=0.0053, Acc=0.9180, ROC-AUC=0.9588\n",
            " test: Loss=0.0069, Acc=0.8681, ROC-AUC=0.9331\n",
            "\n",
            "29\n",
            "train: Loss=0.0052, Acc=0.9176, ROC-AUC=0.9582\n",
            " test: Loss=0.0070, Acc=0.8677, ROC-AUC=0.9330\n",
            "\n",
            "30\n",
            "train: Loss=0.0051, Acc=0.9201, ROC-AUC=0.9598\n",
            " test: Loss=0.0069, Acc=0.8685, ROC-AUC=0.9333\n"
          ],
          "name": "stdout"
        }
      ]
    },
    {
      "cell_type": "code",
      "metadata": {
        "colab": {
          "base_uri": "https://localhost:8080/",
          "height": 388
        },
        "id": "aqH1h05YvVA3",
        "outputId": "f9b0be07-843b-49a0-9806-094826b0ee85"
      },
      "source": [
        "fig, axs = plt.subplots(nrows=1, ncols=2, figsize=(12,6))\n",
        "n_epoches = len(trainer_final.metrics['test']['roc-auc'])\n",
        "\n",
        "axs[0].plot(\n",
        "    np.arange(n_epoches)+1, trainer_final.metrics['train']['roc-auc'],\n",
        "    color='darkgreen', label='train')\n",
        "axs[0].plot(\n",
        "    np.arange(n_epoches)+1, trainer_final.metrics['test']['roc-auc'],\n",
        "    color='darkgreen', ls='--', label='test')\n",
        "axs[0].legend(loc='lower right')\n",
        "axs[0].set_xlabel('Epoches')\n",
        "axs[0].set_ylabel('ROC-AUC')\n",
        "axs[0].grid()\n",
        "\n",
        "axs[1].plot(\n",
        "    np.arange(n_epoches)+1, trainer_final.metrics['train']['acc'],\n",
        "    color='darkgreen', label='train')\n",
        "axs[1].plot(\n",
        "    np.arange(n_epoches)+1, trainer_final.metrics['test']['acc'],\n",
        "    color='darkgreen', ls='--', label='test')\n",
        "axs[1].legend(loc='lower right')\n",
        "axs[1].set_xlabel('Epoches')\n",
        "axs[1].set_ylabel('Accuracy')\n",
        "axs[1].grid();"
      ],
      "execution_count": null,
      "outputs": [
        {
          "output_type": "display_data",
          "data": {
            "image/png": "[encoded data removed]",
            "text/plain": [
              "<Figure size 864x432 with 2 Axes>"
            ]
          },
          "metadata": {
            "tags": [],
            "needs_background": "light"
          }
        }
      ]
    },
    {
      "cell_type": "markdown",
      "metadata": {
        "id": "p-oQZqvG2I6r"
      },
      "source": [
        "## Color Classification"
      ]
    },
    {
      "cell_type": "markdown",
      "metadata": {
        "id": "yM5wNijRRt4V"
      },
      "source": [
        "Для определения цвета автомобиля попробуем построить отдельный классификатор, обучив его на датасете [Vehicle Color Dataset](http://cloud.eic.hust.edu.cn:8071/~pchen/project.html).  \n",
        "\n",
        "Датасет номинально состоит из 15 601 изображений автомобилей 8 цветов. Разбиваем их на обучение и тест (70 / 30) и решаем задачу многоклассовой классификации с помощью модели ResNet34."
      ]
    },
    {
      "cell_type": "code",
      "metadata": {
        "id": "plOy_KLe16_t"
      },
      "source": [
        "random.seed(345)\n",
        "\n",
        "Path('./train/').mkdir()\n",
        "Path('./test/').mkdir()\n",
        "\n",
        "for c in Path('color').iterdir():\n",
        "    if not c.is_dir():\n",
        "        continue\n",
        "    Path('./train/').joinpath(c.name).mkdir()\n",
        "    Path('./test/').joinpath(c.name).mkdir()\n",
        "    for f in c.iterdir():\n",
        "        if cv2.imread(str(f)) is None:\n",
        "            continue\n",
        "        if random.random() < 0.7:\n",
        "            shutil.move(f, Path('./train').joinpath(c.name).joinpath(f.name))\n",
        "        else:\n",
        "            shutil.move(f, Path('./test').joinpath(c.name).joinpath(f.name))"
      ],
      "execution_count": null,
      "outputs": []
    },
    {
      "cell_type": "code",
      "metadata": {
        "id": "F19M14v62pLF"
      },
      "source": [
        "train_color_transforms = transforms.Compose([\n",
        "        transforms.RandomResizedCrop(224),\n",
        "        transforms.RandomHorizontalFlip(),\n",
        "        transforms.ToTensor(),\n",
        "        transforms.Normalize([0.485, 0.456, 0.406], [0.229, 0.224, 0.225])\n",
        "    ])\n",
        "test_color_transforms = transforms.Compose([\n",
        "        transforms.Resize(256),\n",
        "        transforms.CenterCrop(224),\n",
        "        transforms.ToTensor(),\n",
        "        transforms.Normalize([0.485, 0.456, 0.406], [0.229, 0.224, 0.225])\n",
        "    ])\n",
        "\n",
        "train_color_dataset = datasets.ImageFolder('./train/', train_color_transforms)\n",
        "test_color_dataset = datasets.ImageFolder('./test/', test_color_transforms)\n",
        "\n",
        "train_color_loader = DataLoader(\n",
        "    train_color_dataset, batch_size=BATCH_SIZE, shuffle=True, num_workers=4)\n",
        "test_color_loader = DataLoader(\n",
        "    test_color_dataset, batch_size=BATCH_SIZE, shuffle=True, num_workers=4)\n",
        "\n",
        "color_names = train_color_dataset.classes"
      ],
      "execution_count": null,
      "outputs": []
    },
    {
      "cell_type": "code",
      "metadata": {
        "id": "gIFOIpTg38NW"
      },
      "source": [
        "model_color = models.resnet34(pretrained=True)\n",
        "input_dim = model_color.fc.in_features\n",
        "model_color.fc = nn.Linear(\n",
        "    in_features=input_dim, out_features=len(color_names), bias=True)\n",
        "\n",
        "model_color = model_color.to(DEVICE)\n",
        "optimizer_color = optim.SGD(model_color.parameters(), lr=0.01, momentum=0.9)\n",
        "scheduler_color = optim.lr_scheduler.ReduceLROnPlateau(\n",
        "    optimizer_color, mode='max', patience=3, threshold=0.001, eps=1e-5)"
      ],
      "execution_count": null,
      "outputs": []
    },
    {
      "cell_type": "code",
      "metadata": {
        "colab": {
          "base_uri": "https://localhost:8080/"
        },
        "id": "AB9E-wl33Loy",
        "outputId": "5420eb37-8aab-4803-bd56-528e73f7c309"
      },
      "source": [
        "trainer_color = MultiClassTrainer(\n",
        "    model_color, optimizer_color, scheduler_color, len(color_names),\n",
        "    suffix='color'\n",
        ")\n",
        "for epoch in range(5):\n",
        "    print(f'\\n{epoch+1:02d}')\n",
        "    trainer_color.train(train_color_loader)\n",
        "    trainer_color.test(test_color_loader)\n",
        "    for t in ['train','test']:\n",
        "      print(\n",
        "          '{:>5}: Loss={:.4f}, Acc={:.4f}, ROC-AUC={:.4f}'.format(\n",
        "              t, trainer_color.metrics[t]['loss'][-1], \n",
        "              trainer_color.metrics[t]['acc'][-1],\n",
        "              trainer_color.metrics[t]['roc-auc'][-1])\n",
        "      )"
      ],
      "execution_count": null,
      "outputs": [
        {
          "output_type": "stream",
          "text": [
            "\n",
            "01\n",
            "train: Loss=0.0082, Acc=0.8239, ROC-AUC=0.8735\n",
            " test: Loss=0.0045, Acc=0.9053, ROC-AUC=0.9484\n",
            "\n",
            "02\n",
            "train: Loss=0.0049, Acc=0.8946, ROC-AUC=0.9321\n",
            " test: Loss=0.0032, Acc=0.9261, ROC-AUC=0.9523\n",
            "\n",
            "03\n",
            "train: Loss=0.0041, Acc=0.9122, ROC-AUC=0.9432\n",
            " test: Loss=0.0027, Acc=0.9363, ROC-AUC=0.9618\n",
            "\n",
            "04\n",
            "train: Loss=0.0036, Acc=0.9191, ROC-AUC=0.9490\n",
            " test: Loss=0.0027, Acc=0.9409, ROC-AUC=0.9646\n",
            "\n",
            "05\n",
            "train: Loss=0.0033, Acc=0.9276, ROC-AUC=0.9538\n",
            " test: Loss=0.0026, Acc=0.9392, ROC-AUC=0.9660\n"
          ],
          "name": "stdout"
        }
      ]
    },
    {
      "cell_type": "markdown",
      "metadata": {
        "id": "BPpxLSvfU3ez"
      },
      "source": [
        "ROC-AUC очень быстро достигает высоких значений. Однако данные в датасете \n",
        "достаточно специфичные - изображения представляют собой снимки с дорожных камер, поэтому в данных присутствует шум из-за освещения. Плюс все автомобили сняты с одинакового ракурса (в отличие Стэнфордского датасета). \n",
        "\n",
        "Из-за больших различий в домене между датасетами (освещение, качество, ракурс) попробуем обучить только голову поверх экстрактора признаков модели, обученной на Стэнфордском датасете."
      ]
    },
    {
      "cell_type": "code",
      "metadata": {
        "id": "ioKq6hQO8wj0"
      },
      "source": [
        "model_joint = models.resnet34(pretrained=False)\n",
        "input_dim = model_joint.fc.in_features\n",
        "model_joint.fc = nn.Linear(\n",
        "    in_features=input_dim, out_features=NUM_CLASSES, bias=True)\n",
        "\n",
        "saved_model = torch.load('./resnet34.pth')\n",
        "model_joint.load_state_dict(saved_model)\n",
        "\n",
        "for params in model_joint.parameters():\n",
        "    params.requires_grad = False \n",
        "model_joint.fc = nn.Linear(\n",
        "    in_features=input_dim, out_features=len(color_names), bias=True)"
      ],
      "execution_count": null,
      "outputs": []
    },
    {
      "cell_type": "code",
      "metadata": {
        "colab": {
          "base_uri": "https://localhost:8080/"
        },
        "id": "OMLasm-07hKd",
        "outputId": "b7c18e88-eb33-4b85-a5f3-177c8aa852aa"
      },
      "source": [
        "model_joint = model_joint.to(DEVICE)\n",
        "optimizer_joint = optim.SGD(model_joint.parameters(), lr=0.01, momentum=0.9)\n",
        "scheduler_joint = optim.lr_scheduler.ReduceLROnPlateau(\n",
        "    optimizer_joint, mode='max', patience=3, threshold=0.001, eps=1e-5)\n",
        "\n",
        "trainer_joint = MultiClassTrainer(\n",
        "    model_joint, optimizer_joint, scheduler_joint, len(color_names),\n",
        "    suffix='joint'\n",
        ")\n",
        "\n",
        "for epoch in range(10):\n",
        "    print(f'\\n{epoch+1:02d}')\n",
        "    trainer_joint.train(train_color_loader)\n",
        "    trainer_joint.test(test_color_loader)\n",
        "    for t in ['train','test']:\n",
        "      print(\n",
        "          '{:>5}: Loss={:.4f}, Acc={:.4f}, ROC-AUC={:.4f}'.format(\n",
        "              t, trainer_joint.metrics[t]['loss'][-1], \n",
        "              trainer_joint.metrics[t]['acc'][-1],\n",
        "              trainer_joint.metrics[t]['roc-auc'][-1])\n",
        "      )"
      ],
      "execution_count": null,
      "outputs": [
        {
          "output_type": "stream",
          "text": [
            "\n",
            "01\n",
            "train: Loss=0.0151, Acc=0.6592, ROC-AUC=0.7707\n",
            " test: Loss=0.0092, Acc=0.7914, ROC-AUC=0.8753\n",
            "\n",
            "02\n",
            "train: Loss=0.0117, Acc=0.7366, ROC-AUC=0.8363\n",
            " test: Loss=0.0084, Acc=0.8081, ROC-AUC=0.8944\n",
            "\n",
            "03\n",
            "train: Loss=0.0108, Acc=0.7563, ROC-AUC=0.8442\n",
            " test: Loss=0.0113, Acc=0.7601, ROC-AUC=0.8733\n",
            "\n",
            "04\n",
            "train: Loss=0.0106, Acc=0.7596, ROC-AUC=0.8535\n",
            " test: Loss=0.0098, Acc=0.7775, ROC-AUC=0.8740\n",
            "\n",
            "05\n",
            "train: Loss=0.0112, Acc=0.7494, ROC-AUC=0.8487\n",
            " test: Loss=0.0097, Acc=0.7853, ROC-AUC=0.8863\n",
            "\n",
            "06\n",
            "train: Loss=0.0100, Acc=0.7722, ROC-AUC=0.8611\n",
            " test: Loss=0.0103, Acc=0.7755, ROC-AUC=0.8694\n",
            "\n",
            "07\n",
            "train: Loss=0.0089, Acc=0.7979, ROC-AUC=0.8745\n",
            " test: Loss=0.0071, Acc=0.8385, ROC-AUC=0.9103\n",
            "\n",
            "08\n",
            "train: Loss=0.0088, Acc=0.7984, ROC-AUC=0.8776\n",
            " test: Loss=0.0071, Acc=0.8333, ROC-AUC=0.9045\n",
            "\n",
            "09\n",
            "train: Loss=0.0086, Acc=0.8019, ROC-AUC=0.8794\n",
            " test: Loss=0.0071, Acc=0.8381, ROC-AUC=0.9101\n",
            "\n",
            "10\n",
            "train: Loss=0.0085, Acc=0.8046, ROC-AUC=0.8802\n",
            " test: Loss=0.0070, Acc=0.8364, ROC-AUC=0.9056\n"
          ],
          "name": "stdout"
        }
      ]
    },
    {
      "cell_type": "markdown",
      "metadata": {
        "id": "E1KZQeWOQ2nG"
      },
      "source": [
        "Качество обученной классифицирующей головы оказалось ниже даже после большего количества эпох обучения, но все равно остается высоким. \n",
        "\n",
        "Однако выборочная визуальная оценка определения цвета на примерах из Стэнфордского датасета показывает плохие результаты: и для всего изображения, и для отдельных фрагментов. Причем сеть ошибалась и на фрагментах с преимущественно одним цветом.\n",
        "\n",
        "Из-за отсутсвия разметки по цветам в Стэнфордском датасете предлагается отказаться от модельного решения задачи и определять цвета на основе правил: выбирать доминирующий цвет. Чтобы не учитывать цвета фона при таком подходе, требуется определить положение автомобиля на изображении. \n",
        "\n",
        "Сделаем это в упрощенном варианте с помощью **CAM (Classification Activation Map)**, предполагая, что принимая решение о классе автомобиля, сеть смотрит на его части. Поэтому взяв области, которые больше всего повлияли на ответ сети, можно получить неплохую апроксимацию положения автомобиля на изображении и брать доминирующий цвет только из этой области (код реализации в классе **CarClassifier** в файле **car_classifier.py**)."
      ]
    },
    {
      "cell_type": "markdown",
      "metadata": {
        "id": "oaGP1G08jMNR"
      },
      "source": [
        "## Final Mark-Model-Color Classifier "
      ]
    },
    {
      "cell_type": "code",
      "metadata": {
        "id": "QRHnFnxl0cJj"
      },
      "source": [
        "from car_classifier import CarClassifier"
      ],
      "execution_count": null,
      "outputs": []
    },
    {
      "cell_type": "code",
      "metadata": {
        "id": "9kVdlQJn3C0y"
      },
      "source": [
        "classifier = CarClassifier('./model/', DEVICE)\n",
        "classifier.classify('./car_ims/006444.jpg', illustrate=True)"
      ],
      "execution_count": null,
      "outputs": []
    }
  ]
}
